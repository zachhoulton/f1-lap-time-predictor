{
 "cells": [
  {
   "cell_type": "markdown",
   "id": "7557bfa6",
   "metadata": {},
   "source": [
    "# Training a model on the 2022 Italian Grand Prix"
   ]
  },
  {
   "cell_type": "code",
   "execution_count": 1,
   "id": "6b43a74c",
   "metadata": {},
   "outputs": [],
   "source": [
    "import os   #used to create cache folder\n",
    "import pandas as pd #table-like data\n",
    "import numpy as np  #numbers and arrays\n",
    "import matplotlib.pyplot as plt #charts\n",
    "import seaborn as sns   #data visualization\n",
    "import fastf1   #f1 library\n",
    "\n",
    "from sklearn.model_selection import train_test_split    #splitting data\n",
    "from sklearn.ensemble import RandomForestRegressor  #training model\n",
    "from sklearn.metrics import mean_absolute_error, mean_squared_error #measuring accuracy\n",
    "\n",
    "os.makedirs('data/fastf1_cache', exist_ok=True) #make sure cache dir exists\n",
    "fastf1.Cache.enable_cache('data/fastf1_cache')  #use that cache\n"
   ]
  },
  {
   "cell_type": "code",
   "execution_count": 2,
   "id": "bbc8c629",
   "metadata": {},
   "outputs": [
    {
     "name": "stderr",
     "output_type": "stream",
     "text": [
      "core           INFO \tLoading data for Italian Grand Prix - Race [v3.5.3]\n",
      "req            INFO \tUsing cached data for session_info\n",
      "req            INFO \tUsing cached data for driver_info\n",
      "req            INFO \tUsing cached data for session_status_data\n",
      "req            INFO \tUsing cached data for lap_count\n",
      "req            INFO \tUsing cached data for track_status_data\n",
      "req            INFO \tUsing cached data for _extended_timing_data\n",
      "req            INFO \tUsing cached data for timing_app_data\n",
      "core           INFO \tProcessing timing data...\n",
      "req            INFO \tUsing cached data for car_data\n",
      "req            INFO \tUsing cached data for position_data\n",
      "req            INFO \tUsing cached data for weather_data\n",
      "req            INFO \tUsing cached data for race_control_messages\n",
      "core           INFO \tFinished loading data for 20 drivers: ['1', '16', '63', '55', '44', '11', '4', '10', '45', '24', '31', '47', '77', '22', '6', '20', '3', '18', '14', '5']\n"
     ]
    }
   ],
   "source": [
    "session = fastf1.get_session(2022, 'Monza', 'R')    #function that loads race session\n",
    "session.load()  #parses data"
   ]
  },
  {
   "cell_type": "code",
   "execution_count": 3,
   "id": "fa31f9b7",
   "metadata": {},
   "outputs": [
    {
     "data": {
      "text/html": [
       "<div>\n",
       "<style scoped>\n",
       "    .dataframe tbody tr th:only-of-type {\n",
       "        vertical-align: middle;\n",
       "    }\n",
       "\n",
       "    .dataframe tbody tr th {\n",
       "        vertical-align: top;\n",
       "    }\n",
       "\n",
       "    .dataframe thead th {\n",
       "        text-align: right;\n",
       "    }\n",
       "</style>\n",
       "<table border=\"1\" class=\"dataframe\">\n",
       "  <thead>\n",
       "    <tr style=\"text-align: right;\">\n",
       "      <th></th>\n",
       "      <th>Time</th>\n",
       "      <th>Driver</th>\n",
       "      <th>DriverNumber</th>\n",
       "      <th>LapTime</th>\n",
       "      <th>LapNumber</th>\n",
       "      <th>Stint</th>\n",
       "      <th>PitOutTime</th>\n",
       "      <th>PitInTime</th>\n",
       "      <th>Sector1Time</th>\n",
       "      <th>Sector2Time</th>\n",
       "      <th>...</th>\n",
       "      <th>FreshTyre</th>\n",
       "      <th>Team</th>\n",
       "      <th>LapStartTime</th>\n",
       "      <th>LapStartDate</th>\n",
       "      <th>TrackStatus</th>\n",
       "      <th>Position</th>\n",
       "      <th>Deleted</th>\n",
       "      <th>DeletedReason</th>\n",
       "      <th>FastF1Generated</th>\n",
       "      <th>IsAccurate</th>\n",
       "    </tr>\n",
       "  </thead>\n",
       "  <tbody>\n",
       "    <tr>\n",
       "      <th>0</th>\n",
       "      <td>0 days 01:03:59.211000</td>\n",
       "      <td>VER</td>\n",
       "      <td>1</td>\n",
       "      <td>0 days 00:01:30.827000</td>\n",
       "      <td>1.0</td>\n",
       "      <td>1.0</td>\n",
       "      <td>NaT</td>\n",
       "      <td>NaT</td>\n",
       "      <td>NaT</td>\n",
       "      <td>0 days 00:00:30.903000</td>\n",
       "      <td>...</td>\n",
       "      <td>True</td>\n",
       "      <td>Red Bull Racing</td>\n",
       "      <td>0 days 01:02:28.137000</td>\n",
       "      <td>2022-09-11 13:03:28.378</td>\n",
       "      <td>1</td>\n",
       "      <td>4.0</td>\n",
       "      <td>False</td>\n",
       "      <td></td>\n",
       "      <td>False</td>\n",
       "      <td>False</td>\n",
       "    </tr>\n",
       "    <tr>\n",
       "      <th>1</th>\n",
       "      <td>0 days 01:05:25.612000</td>\n",
       "      <td>VER</td>\n",
       "      <td>1</td>\n",
       "      <td>0 days 00:01:26.401000</td>\n",
       "      <td>2.0</td>\n",
       "      <td>1.0</td>\n",
       "      <td>NaT</td>\n",
       "      <td>NaT</td>\n",
       "      <td>0 days 00:00:28.387000</td>\n",
       "      <td>0 days 00:00:29.504000</td>\n",
       "      <td>...</td>\n",
       "      <td>True</td>\n",
       "      <td>Red Bull Racing</td>\n",
       "      <td>0 days 01:03:59.211000</td>\n",
       "      <td>2022-09-11 13:04:59.452</td>\n",
       "      <td>1</td>\n",
       "      <td>3.0</td>\n",
       "      <td>False</td>\n",
       "      <td></td>\n",
       "      <td>False</td>\n",
       "      <td>True</td>\n",
       "    </tr>\n",
       "    <tr>\n",
       "      <th>2</th>\n",
       "      <td>0 days 01:06:51.793000</td>\n",
       "      <td>VER</td>\n",
       "      <td>1</td>\n",
       "      <td>0 days 00:01:26.181000</td>\n",
       "      <td>3.0</td>\n",
       "      <td>1.0</td>\n",
       "      <td>NaT</td>\n",
       "      <td>NaT</td>\n",
       "      <td>0 days 00:00:28.205000</td>\n",
       "      <td>0 days 00:00:29.457000</td>\n",
       "      <td>...</td>\n",
       "      <td>True</td>\n",
       "      <td>Red Bull Racing</td>\n",
       "      <td>0 days 01:05:25.612000</td>\n",
       "      <td>2022-09-11 13:06:25.853</td>\n",
       "      <td>1</td>\n",
       "      <td>3.0</td>\n",
       "      <td>False</td>\n",
       "      <td></td>\n",
       "      <td>False</td>\n",
       "      <td>True</td>\n",
       "    </tr>\n",
       "    <tr>\n",
       "      <th>3</th>\n",
       "      <td>0 days 01:08:17.575000</td>\n",
       "      <td>VER</td>\n",
       "      <td>1</td>\n",
       "      <td>0 days 00:01:25.782000</td>\n",
       "      <td>4.0</td>\n",
       "      <td>1.0</td>\n",
       "      <td>NaT</td>\n",
       "      <td>NaT</td>\n",
       "      <td>0 days 00:00:27.936000</td>\n",
       "      <td>0 days 00:00:29.170000</td>\n",
       "      <td>...</td>\n",
       "      <td>True</td>\n",
       "      <td>Red Bull Racing</td>\n",
       "      <td>0 days 01:06:51.793000</td>\n",
       "      <td>2022-09-11 13:07:52.034</td>\n",
       "      <td>1</td>\n",
       "      <td>3.0</td>\n",
       "      <td>False</td>\n",
       "      <td></td>\n",
       "      <td>False</td>\n",
       "      <td>True</td>\n",
       "    </tr>\n",
       "    <tr>\n",
       "      <th>4</th>\n",
       "      <td>0 days 01:09:43.087000</td>\n",
       "      <td>VER</td>\n",
       "      <td>1</td>\n",
       "      <td>0 days 00:01:25.512000</td>\n",
       "      <td>5.0</td>\n",
       "      <td>1.0</td>\n",
       "      <td>NaT</td>\n",
       "      <td>NaT</td>\n",
       "      <td>0 days 00:00:27.904000</td>\n",
       "      <td>0 days 00:00:29.341000</td>\n",
       "      <td>...</td>\n",
       "      <td>True</td>\n",
       "      <td>Red Bull Racing</td>\n",
       "      <td>0 days 01:08:17.575000</td>\n",
       "      <td>2022-09-11 13:09:17.816</td>\n",
       "      <td>1</td>\n",
       "      <td>2.0</td>\n",
       "      <td>False</td>\n",
       "      <td></td>\n",
       "      <td>False</td>\n",
       "      <td>True</td>\n",
       "    </tr>\n",
       "  </tbody>\n",
       "</table>\n",
       "<p>5 rows × 31 columns</p>\n",
       "</div>"
      ],
      "text/plain": [
       "                    Time Driver DriverNumber                LapTime  \\\n",
       "0 0 days 01:03:59.211000    VER            1 0 days 00:01:30.827000   \n",
       "1 0 days 01:05:25.612000    VER            1 0 days 00:01:26.401000   \n",
       "2 0 days 01:06:51.793000    VER            1 0 days 00:01:26.181000   \n",
       "3 0 days 01:08:17.575000    VER            1 0 days 00:01:25.782000   \n",
       "4 0 days 01:09:43.087000    VER            1 0 days 00:01:25.512000   \n",
       "\n",
       "   LapNumber  Stint PitOutTime PitInTime            Sector1Time  \\\n",
       "0        1.0    1.0        NaT       NaT                    NaT   \n",
       "1        2.0    1.0        NaT       NaT 0 days 00:00:28.387000   \n",
       "2        3.0    1.0        NaT       NaT 0 days 00:00:28.205000   \n",
       "3        4.0    1.0        NaT       NaT 0 days 00:00:27.936000   \n",
       "4        5.0    1.0        NaT       NaT 0 days 00:00:27.904000   \n",
       "\n",
       "             Sector2Time  ... FreshTyre             Team  \\\n",
       "0 0 days 00:00:30.903000  ...      True  Red Bull Racing   \n",
       "1 0 days 00:00:29.504000  ...      True  Red Bull Racing   \n",
       "2 0 days 00:00:29.457000  ...      True  Red Bull Racing   \n",
       "3 0 days 00:00:29.170000  ...      True  Red Bull Racing   \n",
       "4 0 days 00:00:29.341000  ...      True  Red Bull Racing   \n",
       "\n",
       "            LapStartTime            LapStartDate  TrackStatus  Position  \\\n",
       "0 0 days 01:02:28.137000 2022-09-11 13:03:28.378            1       4.0   \n",
       "1 0 days 01:03:59.211000 2022-09-11 13:04:59.452            1       3.0   \n",
       "2 0 days 01:05:25.612000 2022-09-11 13:06:25.853            1       3.0   \n",
       "3 0 days 01:06:51.793000 2022-09-11 13:07:52.034            1       3.0   \n",
       "4 0 days 01:08:17.575000 2022-09-11 13:09:17.816            1       2.0   \n",
       "\n",
       "   Deleted  DeletedReason FastF1Generated IsAccurate  \n",
       "0    False                          False      False  \n",
       "1    False                          False       True  \n",
       "2    False                          False       True  \n",
       "3    False                          False       True  \n",
       "4    False                          False       True  \n",
       "\n",
       "[5 rows x 31 columns]"
      ]
     },
     "execution_count": 3,
     "metadata": {},
     "output_type": "execute_result"
    }
   ],
   "source": [
    "laps = session.laps #extracts data as pandas dataframe\n",
    "laps.head() #shows first few rows"
   ]
  },
  {
   "cell_type": "code",
   "execution_count": 4,
   "id": "8345c6f1",
   "metadata": {},
   "outputs": [],
   "source": [
    "clean_laps = laps[  #filter out in/out laps and timing errors\n",
    "    (laps.get('IsAccurate', True)) &\n",
    "    (laps['PitOutTime'].isna()) &\n",
    "    (laps['PitInTime'].isna())\n",
    "]\n",
    "\n",
    "selected_cols = [   #keep useful stuff\n",
    "    'Driver', 'Team', 'LapNumber', 'Stint', 'Compound',\n",
    "    'TyreLife', 'LapTime'\n",
    "]\n",
    "\n",
    "clean_laps = clean_laps[selected_cols].dropna() #drop null rows\n",
    "clean_laps['LapTimeSeconds'] = clean_laps['LapTime'].dt.total_seconds() #convert lap time to seconds\n",
    "\n"
   ]
  },
  {
   "cell_type": "code",
   "execution_count": 5,
   "id": "d2ab9793",
   "metadata": {},
   "outputs": [],
   "source": [
    "model_data = clean_laps.copy()  #make copy of data for modeling\n",
    "#convert strings to codes for model\n",
    "model_data['Compound'] = model_data['Compound'].astype('category').cat.codes\n",
    "model_data['Team'] = model_data['Team'].astype('category').cat.codes\n",
    "model_data['Driver'] = model_data['Driver'].astype('category').cat.codes\n",
    "\n",
    "#x = inputs, y = lap time in seconds (what we're predicting)\n",
    "features = ['Compound', 'TyreLife', 'Stint', 'Team', 'Driver']\n",
    "X = model_data[features]\n",
    "y = model_data['LapTimeSeconds']\n",
    "\n",
    "#train 80%, test 20%\n",
    "X_train, X_test, y_train, y_test = train_test_split(\n",
    "    X, y, test_size=0.2, random_state=42\n",
    ")"
   ]
  },
  {
   "cell_type": "markdown",
   "id": "f9ea60de",
   "metadata": {},
   "source": [
    "## Random forest model"
   ]
  },
  {
   "cell_type": "code",
   "execution_count": 6,
   "id": "9ad3139b",
   "metadata": {},
   "outputs": [],
   "source": [
    "model = RandomForestRegressor(n_estimators=100, random_state=42)    #create random forest model\n",
    "model.fit(X_train, y_train)\n",
    "\n",
    "y_pred = model.predict(X_test)  #predict lap times"
   ]
  },
  {
   "cell_type": "code",
   "execution_count": 7,
   "id": "b20f20f7",
   "metadata": {},
   "outputs": [
    {
     "name": "stdout",
     "output_type": "stream",
     "text": [
      "MAE: 0.299 seconds\n",
      "RMSE: 0.421 seconds\n"
     ]
    },
    {
     "data": {
      "image/png": "[encoded data removed]",
      "text/plain": [
       "<Figure size 1000x600 with 1 Axes>"
      ]
     },
     "metadata": {},
     "output_type": "display_data"
    }
   ],
   "source": [
    "from math import sqrt\n",
    "\n",
    "mae = mean_absolute_error(y_test, y_pred)\n",
    "rmse = sqrt(mean_squared_error(y_test, y_pred))\n",
    "\n",
    "print(f\"MAE: {mae:.3f} seconds\")\n",
    "print(f\"RMSE: {rmse:.3f} seconds\")\n",
    "\n",
    "#plot predicted vs actual\n",
    "plt.figure(figsize=(10, 6))\n",
    "sns.scatterplot(x=y_test, y=y_pred, alpha=0.6)\n",
    "plt.xlabel(\"Actual Lap Time (s)\")\n",
    "plt.ylabel(\"Predicted Lap Time (s)\")\n",
    "plt.title(\"Predicted vs Actual Lap Times (Random Forest)\")\n",
    "plt.plot([y.min(), y.max()], [y.min(), y.max()], 'r--')  # 1:1 line\n",
    "plt.tight_layout()\n",
    "plt.show()\n"
   ]
  },
  {
   "cell_type": "markdown",
   "id": "d40da42e",
   "metadata": {},
   "source": [
    "## vs. XGBoost"
   ]
  },
  {
   "cell_type": "code",
   "execution_count": 8,
   "id": "acb28be1",
   "metadata": {},
   "outputs": [
    {
     "name": "stdout",
     "output_type": "stream",
     "text": [
      "[XGBoost] MAE: 0.321 seconds\n",
      "[XGBoost] RMSE: 0.453 seconds\n"
     ]
    }
   ],
   "source": [
    "from xgboost import XGBRegressor\n",
    "\n",
    "xgb_model = XGBRegressor(n_estimators=100, learning_rate=0.1, max_depth=6, random_state=42)\n",
    "xgb_model.fit(X_train, y_train)\n",
    "\n",
    "y_pred_xgb = xgb_model.predict(X_test)\n",
    "\n",
    "mae_xgb = mean_absolute_error(y_test, y_pred_xgb)\n",
    "rmse_xgb = np.sqrt(mean_squared_error(y_test, y_pred_xgb))\n",
    "\n",
    "print(f\"[XGBoost] MAE: {mae_xgb:.3f} seconds\")\n",
    "print(f\"[XGBoost] RMSE: {rmse_xgb:.3f} seconds\")\n"
   ]
  },
  {
   "cell_type": "code",
   "execution_count": 9,
   "id": "5bdf005c",
   "metadata": {},
   "outputs": [
    {
     "data": {
      "text/plain": [
       "['models/xgb_laptime_model.pkl']"
      ]
     },
     "execution_count": 9,
     "metadata": {},
     "output_type": "execute_result"
    }
   ],
   "source": [
    "os.makedirs('models', exist_ok=True)\n",
    "import joblib\n",
    "joblib.dump(xgb_model, 'models/xgb_laptime_model.pkl')\n"
   ]
  },
  {
   "cell_type": "code",
   "execution_count": 10,
   "id": "4654ac0c",
   "metadata": {},
   "outputs": [],
   "source": [
    "import sys\n",
    "sys.path.append('../src')  #so python can find sim\n",
    "\n",
    "from simulator import simulate_strategy"
   ]
  },
  {
   "cell_type": "code",
   "execution_count": 18,
   "id": "173b8eb9",
   "metadata": {},
   "outputs": [
    {
     "name": "stdout",
     "output_type": "stream",
     "text": [
      "Total predicted race time: 5770.1 seconds\n"
     ]
    }
   ],
   "source": [
    "total_time = simulate_strategy(\n",
    "    compounds=['SOFT', 'MEDIUM', 'SOFT'],\n",
    "    stint_lengths=[21, 28, 17],\n",
    "    model=xgb_model,\n",
    "    driver_id=3,\n",
    "    team_id=1\n",
    ")\n",
    "\n",
    "print(f\"Total predicted race time: {total_time:.1f} seconds\")\n"
   ]
  }
 ],
 "metadata": {
  "kernelspec": {
   "display_name": "venv",
   "language": "python",
   "name": "python3"
  },
  "language_info": {
   "codemirror_mode": {
    "name": "ipython",
    "version": 3
   },
   "file_extension": ".py",
   "mimetype": "text/x-python",
   "name": "python",
   "nbconvert_exporter": "python",
   "pygments_lexer": "ipython3",
   "version": "3.13.2"
  }
 },
 "nbformat": 4,
 "nbformat_minor": 5
}
