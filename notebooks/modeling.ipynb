{
 "cells": [
  {
   "cell_type": "code",
   "execution_count": 39,
   "id": "c1915e07",
   "metadata": {},
   "outputs": [],
   "source": [
    "import pandas as pd\n",
    "import numpy as np\n",
    "from sklearn.model_selection import train_test_split\n",
    "from sklearn.linear_model import LinearRegression\n",
    "from sklearn.metrics import mean_absolute_error, mean_squared_error, r2_score\n",
    "import joblib\n",
    "from sklearn.ensemble import RandomForestRegressor\n",
    "from xgboost import XGBRegressor\n"
   ]
  },
  {
   "cell_type": "markdown",
   "id": "4e3a84dc",
   "metadata": {},
   "source": [
    "Load dataset"
   ]
  },
  {
   "cell_type": "code",
   "execution_count": 40,
   "id": "5e0d56a5",
   "metadata": {},
   "outputs": [],
   "source": [
    "laps = pd.read_csv('data/2023_monza_race_laps.csv')"
   ]
  },
  {
   "cell_type": "markdown",
   "id": "6d8acffe",
   "metadata": {},
   "source": [
    "Encode categorical features"
   ]
  },
  {
   "cell_type": "code",
   "execution_count": 41,
   "id": "9b0ee31e",
   "metadata": {},
   "outputs": [],
   "source": [
    "laps_encoded = pd.get_dummies(laps, columns=['Driver', 'Team', 'Compound', 'TrackStatus'])"
   ]
  },
  {
   "cell_type": "markdown",
   "id": "d07a2bd0",
   "metadata": {},
   "source": [
    "Separate x and y"
   ]
  },
  {
   "cell_type": "code",
   "execution_count": 42,
   "id": "989ce61b",
   "metadata": {},
   "outputs": [],
   "source": [
    "x = laps_encoded.drop('LapTime', axis=1)\n",
    "y = laps_encoded['LapTime']"
   ]
  },
  {
   "cell_type": "markdown",
   "id": "0e09089d",
   "metadata": {},
   "source": [
    "Define models"
   ]
  },
  {
   "cell_type": "code",
   "execution_count": 43,
   "id": "6b188647",
   "metadata": {},
   "outputs": [],
   "source": [
    "x_train, x_test, y_train, y_test = train_test_split(x, y, test_size=0.2, random_state=42)\n",
    "models = {\n",
    "    'Random Forest': RandomForestRegressor(n_estimators=100, random_state=42),\n",
    "    'XGBoost': XGBRegressor(n_estimators=100, learning_rate=0.1, random_state=42)\n",
    "}"
   ]
  },
  {
   "cell_type": "markdown",
   "id": "a3d7a7d6",
   "metadata": {},
   "source": [
    "Train and evaluate models"
   ]
  },
  {
   "cell_type": "code",
   "execution_count": 44,
   "id": "f987ab81",
   "metadata": {},
   "outputs": [
    {
     "name": "stdout",
     "output_type": "stream",
     "text": [
      "\n",
      " Random Forest Results:\n",
      "MAE: 0.258 sec\n",
      "RMSE: 0.396 sec\n",
      "R² Score: 0.741\n",
      "\n",
      " XGBoost Results:\n",
      "MAE: 0.259 sec\n",
      "RMSE: 0.382 sec\n",
      "R² Score: 0.759\n"
     ]
    }
   ],
   "source": [
    "for name, model in models.items():\n",
    "    model.fit(x_train, y_train)\n",
    "    y_pred = model.predict(x_test)\n",
    "\n",
    "    mae = mean_absolute_error(y_test, y_pred)\n",
    "    rmse = np.sqrt(mean_squared_error(y_test, y_pred))\n",
    "    r2 = r2_score(y_test, y_pred)\n",
    "\n",
    "    print(f\"\\n {name} Results:\")\n",
    "    print(f\"MAE: {mae:.3f} sec\")\n",
    "    print(f\"RMSE: {rmse:.3f} sec\")\n",
    "    print(f\"R² Score: {r2:.3f}\")"
   ]
  },
  {
   "cell_type": "markdown",
   "id": "99e63090",
   "metadata": {},
   "source": [
    "Save XGBoost model"
   ]
  },
  {
   "cell_type": "code",
   "execution_count": 45,
   "id": "f56eeb1b",
   "metadata": {},
   "outputs": [
    {
     "data": {
      "text/plain": [
       "['data/lap_time_model_xgb.joblib']"
      ]
     },
     "execution_count": 45,
     "metadata": {},
     "output_type": "execute_result"
    }
   ],
   "source": [
    "joblib.dump(models['XGBoost'], 'data/lap_time_model_xgb.joblib')"
   ]
  }
 ],
 "metadata": {
  "kernelspec": {
   "display_name": "venv",
   "language": "python",
   "name": "python3"
  },
  "language_info": {
   "codemirror_mode": {
    "name": "ipython",
    "version": 3
   },
   "file_extension": ".py",
   "mimetype": "text/x-python",
   "name": "python",
   "nbconvert_exporter": "python",
   "pygments_lexer": "ipython3",
   "version": "3.13.2"
  }
 },
 "nbformat": 4,
 "nbformat_minor": 5
}
