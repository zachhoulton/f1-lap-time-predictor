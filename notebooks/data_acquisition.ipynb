{
 "cells": [
  {
   "cell_type": "code",
   "execution_count": 15,
   "id": "84f150af",
   "metadata": {},
   "outputs": [],
   "source": [
    "import os\n",
    "import fastf1\n",
    "from fastf1 import plotting\n",
    "import pandas as pd"
   ]
  },
  {
   "cell_type": "markdown",
   "id": "82b3a537",
   "metadata": {},
   "source": [
    "Enable cache"
   ]
  },
  {
   "cell_type": "code",
   "execution_count": 16,
   "id": "36bb8390",
   "metadata": {},
   "outputs": [],
   "source": [
    "os.makedirs('cache', exist_ok=True)\n",
    "fastf1.Cache.enable_cache('cache')"
   ]
  },
  {
   "cell_type": "markdown",
   "id": "24b50ca3",
   "metadata": {},
   "source": [
    "Load the 2023 Italian GP"
   ]
  },
  {
   "cell_type": "code",
   "execution_count": 17,
   "id": "6d021443",
   "metadata": {},
   "outputs": [
    {
     "name": "stderr",
     "output_type": "stream",
     "text": [
      "core           INFO \tLoading data for Italian Grand Prix - Race [v3.5.3]\n",
      "req            INFO \tUsing cached data for session_info\n",
      "req            INFO \tUsing cached data for driver_info\n",
      "req            INFO \tUsing cached data for session_status_data\n",
      "req            INFO \tUsing cached data for lap_count\n",
      "req            INFO \tUsing cached data for track_status_data\n",
      "req            INFO \tUsing cached data for _extended_timing_data\n",
      "req            INFO \tUsing cached data for timing_app_data\n",
      "core           INFO \tProcessing timing data...\n",
      "req            INFO \tUsing cached data for car_data\n",
      "req            INFO \tUsing cached data for position_data\n",
      "req            INFO \tUsing cached data for weather_data\n",
      "req            INFO \tUsing cached data for race_control_messages\n",
      "core        WARNING \tDriver 1 completed the race distance 06:25.888000 before the recorded end of the session.\n",
      "core        WARNING \tDriver 11 completed the race distance 06:19.824000 before the recorded end of the session.\n",
      "core        WARNING \tDriver 55 completed the race distance 06:14.695000 before the recorded end of the session.\n",
      "core        WARNING \tDriver 16 completed the race distance 06:14.511000 before the recorded end of the session.\n",
      "core        WARNING \tDriver 63 completed the race distance 06:07.860000 before the recorded end of the session.\n",
      "core        WARNING \tDriver 44 completed the race distance 05:48.209000 before the recorded end of the session.\n",
      "core        WARNING \tDriver 23 completed the race distance 05:40.782000 before the recorded end of the session.\n",
      "core        WARNING \tDriver 4 completed the race distance 05:40.439000 before the recorded end of the session.\n",
      "core        WARNING \tDriver 14 completed the race distance 05:39.594000 before the recorded end of the session.\n",
      "core           INFO \tFinished loading data for 20 drivers: ['1', '11', '55', '16', '63', '44', '23', '4', '14', '77', '40', '81', '2', '24', '10', '18', '27', '20', '31', '22']\n"
     ]
    }
   ],
   "source": [
    "session = fastf1.get_session(2023, 'Monza', 'R')\n",
    "session.load()"
   ]
  },
  {
   "cell_type": "markdown",
   "id": "1963bae0",
   "metadata": {},
   "source": [
    "Extract and clean lap data"
   ]
  },
  {
   "cell_type": "code",
   "execution_count": 18,
   "id": "87503d4c",
   "metadata": {},
   "outputs": [],
   "source": [
    "# Take only useful inputs\n",
    "laps = session.laps.pick_quicklaps()\n",
    "laps = laps[['Driver','Team', 'Compound', 'LapNumber', 'TrackStatus', 'TyreLife', 'Stint', 'LapTime']]\n",
    "\n",
    "# Convert laptime to s\n",
    "laps['LapTime'] = laps['LapTime'].dt.total_seconds()\n",
    "\n",
    "# Convert to csv file\n",
    "os.makedirs('data', exist_ok=True)\n",
    "laps.to_csv('data/2023_monza_race_laps.csv', index=False)"
   ]
  }
 ],
 "metadata": {
  "kernelspec": {
   "display_name": "venv",
   "language": "python",
   "name": "python3"
  },
  "language_info": {
   "codemirror_mode": {
    "name": "ipython",
    "version": 3
   },
   "file_extension": ".py",
   "mimetype": "text/x-python",
   "name": "python",
   "nbconvert_exporter": "python",
   "pygments_lexer": "ipython3",
   "version": "3.13.2"
  }
 },
 "nbformat": 4,
 "nbformat_minor": 5
}
